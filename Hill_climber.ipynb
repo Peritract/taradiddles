{
 "cells": [
  {
   "cell_type": "code",
   "execution_count": 1,
   "metadata": {},
   "outputs": [],
   "source": [
    "from random import randint, choice\n",
    "from time import sleep"
   ]
  },
  {
   "cell_type": "code",
   "execution_count": 2,
   "metadata": {},
   "outputs": [],
   "source": [
    "def difference(a, b):\n",
    "    if a == b:\n",
    "        return 0\n",
    "    score = 0\n",
    "    for i in range(len(a)):\n",
    "        if a[i] != b[i]:\n",
    "            score += abs(ord(a[i]) - ord(b[i]))\n",
    "    return score"
   ]
  },
  {
   "cell_type": "code",
   "execution_count": 3,
   "metadata": {},
   "outputs": [],
   "source": [
    "def darwinise(arr, target):\n",
    "    fittest = (arr[0], difference(arr[0], target))\n",
    "    for a in arr:\n",
    "        if difference(a, target) < fittest[1]:\n",
    "            fittest = (a, difference(a, target))\n",
    "    return fittest[0]"
   ]
  },
  {
   "cell_type": "code",
   "execution_count": 4,
   "metadata": {},
   "outputs": [],
   "source": [
    "def generate_descendants(start):\n",
    "    descendants = [start for x in range(100)]\n",
    "    for i in range(len(descendants)):\n",
    "        x = descendants[i]\n",
    "        index = randint(0, len(start) - 1)\n",
    "        descendants[i] = x[:index] + chr(ord(x[index]) + choice([-1, 1,\n",
    "                                                                 -2, 2,\n",
    "                                                                 -3, 3])) + x[index + 1:]\n",
    "    return descendants"
   ]
  },
  {
   "cell_type": "code",
   "execution_count": 6,
   "metadata": {},
   "outputs": [
    {
     "name": "stdout",
     "output_type": "stream",
     "text": [
      "DECODED\r"
     ]
    }
   ],
   "source": [
    "target = \"\"\n",
    "start = \"A\" * len(target)\n",
    "\n",
    "while start != target:\n",
    "    generation = generate_descendants(start)\n",
    "    start = darwinise(generation, target)\n",
    "    print(start, end=\"\\r\")\n",
    "    sleep(0.1)"
   ]
  },
  {
   "cell_type": "code",
   "execution_count": 17,
   "metadata": {},
   "outputs": [
    {
     "data": {
      "text/plain": [
       "33"
      ]
     },
     "execution_count": 17,
     "metadata": {},
     "output_type": "execute_result"
    }
   ],
   "source": [
    "difference(\"AO\", \"Bo\")"
   ]
  },
  {
   "cell_type": "code",
   "execution_count": null,
   "metadata": {},
   "outputs": [],
   "source": []
  }
 ],
 "metadata": {
  "kernelspec": {
   "display_name": "Python 3",
   "language": "python",
   "name": "python3"
  },
  "language_info": {
   "codemirror_mode": {
    "name": "ipython",
    "version": 3
   },
   "file_extension": ".py",
   "mimetype": "text/x-python",
   "name": "python",
   "nbconvert_exporter": "python",
   "pygments_lexer": "ipython3",
   "version": "3.7.5"
  }
 },
 "nbformat": 4,
 "nbformat_minor": 2
}
