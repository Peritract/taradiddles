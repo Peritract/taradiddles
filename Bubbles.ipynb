{
 "cells": [
  {
   "cell_type": "code",
   "execution_count": null,
   "metadata": {},
   "outputs": [],
   "source": [
    "def make_bubbles(n):\n",
    "    bubble_sets = ['o' * n for i in range(0, n)]\n",
    "    for i in range(0, n):\n",
    "        loc = i % n\n",
    "        bubble_sets[i] = bubble_sets[i][0:loc] + 'O' + bubble_sets[i][loc + 1:]\n",
    "    return bubble_sets"
   ]
  },
  {
   "cell_type": "code",
   "execution_count": null,
   "metadata": {},
   "outputs": [],
   "source": [
    "from time import sleep\n",
    "\n",
    "index = 0\n",
    "bubbles = int(input('How many bubbles? '))\n",
    "words = make_bubbles(bubbles)\n",
    "count = int(input('How many times? '))\n",
    "iterations = 0\n",
    "while iterations < count * bubbles * 2:\n",
    "  iterations += 2\n",
    "  index += 1\n",
    "  if index >= len(words):\n",
    "    index = 0\n",
    "    words = words[::-1]\n",
    "    sleep(0.2)\n",
    "  print(words[index], end='\\r')\n",
    "  sleep(0.3)"
   ]
  },
  {
   "cell_type": "code",
   "execution_count": 1,
   "metadata": {},
   "outputs": [],
   "source": [
    "import antigravity"
   ]
  },
  {
   "cell_type": "code",
   "execution_count": null,
   "metadata": {},
   "outputs": [],
   "source": [
    "\n"
   ]
  },
  {
   "cell_type": "code",
   "execution_count": null,
   "metadata": {},
   "outputs": [],
   "source": []
  }
 ],
 "metadata": {
  "kernelspec": {
   "display_name": "Python 3",
   "language": "python",
   "name": "python3"
  },
  "language_info": {
   "codemirror_mode": {
    "name": "ipython",
    "version": 3
   },
   "file_extension": ".py",
   "mimetype": "text/x-python",
   "name": "python",
   "nbconvert_exporter": "python",
   "pygments_lexer": "ipython3",
   "version": "3.7.5"
  }
 },
 "nbformat": 4,
 "nbformat_minor": 2
}
